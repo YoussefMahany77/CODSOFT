{
  "cells": [
    {
      "cell_type": "code",
      "source": [
        "from google.colab import drive\n",
        "drive.mount('/content/drive')"
      ],
      "metadata": {
        "colab": {
          "base_uri": "https://localhost:8080/"
        },
        "id": "tp1CQQCb-wBs",
        "outputId": "d778af09-5e40-4f23-a062-ebba094deb9d"
      },
      "id": "tp1CQQCb-wBs",
      "execution_count": null,
      "outputs": [
        {
          "output_type": "stream",
          "name": "stdout",
          "text": [
            "Drive already mounted at /content/drive; to attempt to forcibly remount, call drive.mount(\"/content/drive\", force_remount=True).\n"
          ]
        }
      ]
    },
    {
      "cell_type": "code",
      "execution_count": null,
      "id": "53a5d840",
      "metadata": {
        "id": "53a5d840"
      },
      "outputs": [],
      "source": [
        "import pandas as pd\n",
        "from sklearn.feature_extraction.text import TfidfVectorizer\n",
        "from sklearn.model_selection import train_test_split\n",
        "from sklearn.naive_bayes import MultinomialNB\n",
        "from sklearn.linear_model import LogisticRegression\n",
        "from sklearn.svm import SVC\n",
        "from sklearn.metrics import accuracy_score, classification_report"
      ]
    },
    {
      "cell_type": "code",
      "execution_count": null,
      "id": "4317a451",
      "metadata": {
        "id": "4317a451"
      },
      "outputs": [],
      "source": [
        "ids = []\n",
        "titles = []\n",
        "genres = []\n",
        "descriptions = []\n",
        "with open('C:/Users/yosse/Downloads/Genre Classification Dataset/train_data.txt', 'r', encoding='utf-8') as file:\n",
        "    for line in file:\n",
        "        parts = line.strip().split(' ::: ')\n",
        "        if len(parts) == 4:\n",
        "            id_value, title, genre, description = parts\n",
        "            ids.append(int(id_value))\n",
        "            titles.append(title)\n",
        "            genres.append(genre)\n",
        "            descriptions.append(description)"
      ]
    },
    {
      "cell_type": "code",
      "execution_count": null,
      "id": "8416b4cc",
      "metadata": {
        "id": "8416b4cc"
      },
      "outputs": [],
      "source": [
        "data = {\n",
        "    'ID': ids,\n",
        "    'TITLE': titles,\n",
        "    'GENRE': genres,\n",
        "    'DESCRIPTION': descriptions\n",
        "    }\n",
        "df = pd.DataFrame(data)\n",
        "print(df)\n"
      ]
    },
    {
      "cell_type": "code",
      "execution_count": null,
      "id": "9666fe9e",
      "metadata": {
        "id": "9666fe9e"
      },
      "outputs": [],
      "source": [
        "df=pd.read_csv(\"/content/drive/MyDrive/Colab Notebooks/genre.csv\")\n",
        "X = df['TITLE']\n",
        "y = df['DESCRIPTION']\n",
        "df\n",
        "X_train, X_test, y_train, y_test = train_test_split(X, y, test_size=0.2, random_state=42)\n",
        "vectorizer = TfidfVectorizer()\n",
        "X_train_tfidf = vectorizer.fit_transform(X_train)\n",
        "X_test_tfidf = vectorizer.transform(X_test)\n",
        "classifiers = { 'Logistic Regression': LogisticRegression()}\n",
        "\n",
        "for name, classifier in classifiers.items():\n",
        "    classifier.fit(X_train_tfidf, y_train)\n",
        "    y_pred = classifier.predict(X_test_tfidf)\n",
        "    accuracy = accuracy_score(y_test, y_pred)\n",
        "    report = classification_report(y_test, y_pred)\n",
        "\n",
        "    print(f'Classifier: {name}')\n",
        "    print(f'Accuracy: {accuracy:.4f}')\n",
        "    print(f'Classification Report:\\n{report}\\n')\n",
        "\n",
        "best_classifier = LogisticRegression()\n",
        "best_classifier.fit(X_train_tfidf, y_train)\n",
        "\n",
        "new_plot_summary = [\"A group of friends embark on a thrilling adventure to uncover a hidden treasure.\"]\n",
        "new_plot_summary_tfidf = vectorizer.transform(new_plot_summary)\n",
        "predicted_genre = best_classifier.predict(new_plot_summary_tfidf)\n",
        "\n",
        "print(f\"Predicted genre: {predicted_genre[0]}\")"
      ]
    }
  ],
  "metadata": {
    "kernelspec": {
      "display_name": "Python 3 (ipykernel)",
      "language": "python",
      "name": "python3"
    },
    "language_info": {
      "codemirror_mode": {
        "name": "ipython",
        "version": 3
      },
      "file_extension": ".py",
      "mimetype": "text/x-python",
      "name": "python",
      "nbconvert_exporter": "python",
      "pygments_lexer": "ipython3",
      "version": "3.10.9"
    },
    "colab": {
      "provenance": []
    }
  },
  "nbformat": 4,
  "nbformat_minor": 5
}