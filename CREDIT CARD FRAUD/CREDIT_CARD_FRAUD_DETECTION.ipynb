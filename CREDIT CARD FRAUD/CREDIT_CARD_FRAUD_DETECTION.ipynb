{
  "nbformat": 4,
  "nbformat_minor": 0,
  "metadata": {
    "colab": {
      "provenance": []
    },
    "kernelspec": {
      "name": "python3",
      "display_name": "Python 3"
    },
    "language_info": {
      "name": "python"
    }
  },
  "cells": [
    {
      "cell_type": "code",
      "execution_count": null,
      "metadata": {
        "id": "7hZU4QrDOI5Z"
      },
      "outputs": [],
      "source": [
        "from google.colab import drive"
      ]
    },
    {
      "cell_type": "code",
      "source": [
        "import pandas as pd\n",
        "import numpy as np\n",
        "from sklearn.feature_extraction.text import TfidfVectorizer\n",
        "from sklearn.model_selection import train_test_split\n",
        "from sklearn.preprocessing import StandardScaler\n",
        "from sklearn.linear_model import LogisticRegression\n",
        "from sklearn.tree import DecisionTreeClassifier\n",
        "from sklearn.ensemble import RandomForestClassifier\n",
        "from sklearn.metrics import classification_report, accuracy_score, confusion_matrix"
      ],
      "metadata": {
        "id": "Q5IX_bZVTEJW"
      },
      "execution_count": null,
      "outputs": []
    },
    {
      "cell_type": "code",
      "source": [
        "data = pd.read_csv('/content/drive/MyDrive/Colab Notebooks/fraudTest.csv')\n",
        "data = pd.get_dummies(data, columns=['merchant', 'category','job'])\n",
        "data['gender'] = (data['gender'] == 'M').astype(int)\n",
        "data = data.fillna(0)"
      ],
      "metadata": {
        "id": "4FuAqDyNunI7"
      },
      "execution_count": null,
      "outputs": []
    },
    {
      "cell_type": "code",
      "source": [
        "X = data.drop(['is_fraud','trans_date_trans_time','cc_num','first','last','street','city','state','dob','trans_num','unix_time'], axis=1)  # Features\n",
        "y = data['is_fraud']\n",
        "X_train, X_test, y_train, y_test = train_test_split(X, y, test_size=0.2, random_state=42)"
      ],
      "metadata": {
        "id": "Q628zxzZusEI"
      },
      "execution_count": null,
      "outputs": []
    },
    {
      "cell_type": "code",
      "source": [
        "rf_model = RandomForestClassifier(n_estimators=100, random_state=42)\n",
        "rf_model.fit(X_train, y_train)\n",
        "rf_predictions = rf_model.predict(X_test)\n",
        "print(\"\\nRandom Forest:\")\n",
        "print(\"Accuracy:\", accuracy_score(y_test, rf_predictions))\n",
        "print(\"Confusion Matrix:\\n\", confusion_matrix(y_test, rf_predictions))\n",
        "print(\"Classification Report:\\n\", classification_report(y_test, rf_predictions))"
      ],
      "metadata": {
        "colab": {
          "base_uri": "https://localhost:8080/"
        },
        "id": "g78ZGMimuzth",
        "outputId": "02db905f-2bea-430e-d257-02c97d6588c1"
      },
      "execution_count": null,
      "outputs": [
        {
          "output_type": "stream",
          "name": "stdout",
          "text": [
            "\n",
            "Random Forest:\n",
            "Accuracy: 0.9977236737925574\n",
            "Confusion Matrix:\n",
            " [[110708     10]\n",
            " [   243    183]]\n",
            "Classification Report:\n",
            "               precision    recall  f1-score   support\n",
            "\n",
            "           0       1.00      1.00      1.00    110718\n",
            "           1       0.95      0.43      0.59       426\n",
            "\n",
            "    accuracy                           1.00    111144\n",
            "   macro avg       0.97      0.71      0.80    111144\n",
            "weighted avg       1.00      1.00      1.00    111144\n",
            "\n"
          ]
        }
      ]
    }
  ]
}